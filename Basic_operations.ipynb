{
  "nbformat": 4,
  "nbformat_minor": 0,
  "metadata": {
    "colab": {
      "name": "Basic operations.ipynb",
      "provenance": [],
      "authorship_tag": "ABX9TyM3Q9aMmTa2Jzz90xCI+u6j",
      "include_colab_link": true
    },
    "kernelspec": {
      "name": "python3",
      "display_name": "Python 3"
    },
    "language_info": {
      "name": "python"
    }
  },
  "cells": [
    {
      "cell_type": "markdown",
      "metadata": {
        "id": "view-in-github",
        "colab_type": "text"
      },
      "source": [
        "<a href=\"https://colab.research.google.com/github/NguyenCuuNguyen/coding-interview-university/blob/main/Basic_operations.ipynb\" target=\"_parent\"><img src=\"https://colab.research.google.com/assets/colab-badge.svg\" alt=\"Open In Colab\"/></a>"
      ]
    },
    {
      "cell_type": "markdown",
      "metadata": {
        "id": "Yh5iZP3Co2Kq"
      },
      "source": [
        "**Initializing** and using hash-backed maps (**dictionarie**s) and **sets**"
      ]
    },
    {
      "cell_type": "code",
      "metadata": {
        "colab": {
          "base_uri": "https://localhost:8080/"
        },
        "id": "588p7S5fpT2z",
        "outputId": "c4ef8bec-eebf-4bd4-995d-103fc5e5a58b"
      },
      "source": [
        "#DICTIONARY initialization\n",
        "lit_dict = {'value1': 1.6, 'value2': 10, 'name': 'John Doe'}\n",
        "dict_dict = dict(value1=1.6, value2=10, name='John Doe')\n",
        "\n",
        "print(lit_dict)\n",
        "print(dict_dict)\n",
        "\n",
        "print('equal: {}'.format(lit_dict == dict_dict))\n",
        "print('length: {}'.format(len(lit_dict)))\n",
        "\n",
        "#Get all keys\n",
        "print('keys: {}'.format(lit_dict.keys()))\n",
        "#Get all values\n",
        "print('values: {}'.format(lit_dict.values()))\n",
        "#Get all items:\n",
        "print('items: {}'.format(lit_dict.items()))"
      ],
      "execution_count": 6,
      "outputs": [
        {
          "output_type": "stream",
          "text": [
            "{'value1': 1.6, 'value2': 10, 'name': 'John Doe'}\n",
            "{'value1': 1.6, 'value2': 10, 'name': 'John Doe'}\n",
            "equal: True\n",
            "length: 3\n",
            "keys: dict_keys(['value1', 'value2', 'name'])\n",
            "values: dict_values([1.6, 10, 'John Doe'])\n",
            "items: dict_items([('value1', 1.6), ('value2', 10), ('name', 'John Doe')])\n"
          ],
          "name": "stdout"
        }
      ]
    },
    {
      "cell_type": "code",
      "metadata": {
        "id": "QTZTWKQ_rzWz"
      },
      "source": [
        ""
      ],
      "execution_count": null,
      "outputs": []
    },
    {
      "cell_type": "markdown",
      "metadata": {
        "id": "YM9dMcrgozaN"
      },
      "source": [
        "Performing queue and stack operations (whether using an array, like with Ruby’s pop/shift, or an explicit standard library implementation like Java’s Stack and Linked List-backed Queue classes)"
      ]
    },
    {
      "cell_type": "markdown",
      "metadata": {
        "id": "IyRfKVo6o4Xx"
      },
      "source": [
        "Defining classes with constructors and attributes, static and instance methods, and defining a subclass and interface\n"
      ]
    },
    {
      "cell_type": "markdown",
      "metadata": {
        "id": "OAxoJh77o-SH"
      },
      "source": [
        "Throwing exceptions for (1) invalid input and (2) custom messages"
      ]
    },
    {
      "cell_type": "code",
      "metadata": {
        "id": "2ox5U1gdpDq9"
      },
      "source": [
        ""
      ],
      "execution_count": null,
      "outputs": []
    },
    {
      "cell_type": "markdown",
      "metadata": {
        "id": "uMOgHFwNpFqC"
      },
      "source": [
        "Iterating through arrays and dictionaries (both key and values)—including iterating while maintaining an index (Ruby’s each_with_index, Python’s enumerate)"
      ]
    },
    {
      "cell_type": "markdown",
      "metadata": {
        "id": "6UsJLKnipGgi"
      },
      "source": [
        "Casting between strings and integers"
      ]
    },
    {
      "cell_type": "markdown",
      "metadata": {
        "id": "7bPzmT73pH-I"
      },
      "source": [
        "Strings: get character at index, get range, concatenate"
      ]
    },
    {
      "cell_type": "markdown",
      "metadata": {
        "id": "3i4m_DpepJcV"
      },
      "source": [
        "Initializing 2d arrays"
      ]
    },
    {
      "cell_type": "markdown",
      "metadata": {
        "id": "CQCn4fM0pKqi"
      },
      "source": [
        "Arithmetic: modulus (remainder), division (if the first operand is an integer, will it round the result to an integer?), rounding (ceiling and floor)"
      ]
    },
    {
      "cell_type": "markdown",
      "metadata": {
        "id": "RFYhLcWWpMKp"
      },
      "source": [
        "(Bonus) Switch statements"
      ]
    },
    {
      "cell_type": "markdown",
      "metadata": {
        "id": "G1nZdtWZpNuT"
      },
      "source": [
        "(Bonus) Built-in language sorting. Quickly defining a comparator to sort an array."
      ]
    },
    {
      "cell_type": "markdown",
      "metadata": {
        "id": "qb6MDkSxpPbz"
      },
      "source": [
        "(More advanced candidates) The 5 standard bit manipulation operations (L/R shifts, not, or, and, xor)"
      ]
    }
  ]
}